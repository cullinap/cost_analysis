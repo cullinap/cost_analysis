{
 "cells": [
  {
   "cell_type": "code",
   "execution_count": 1,
   "metadata": {},
   "outputs": [],
   "source": [
    "import os\n",
    "import numpy as np\n",
    "import pandas as pd\n",
    "import matplotlib.pyplot as plt\n",
    "%matplotlib inline\n",
    "from Cost_Analysis import load_data, burn_rate, chart "
   ]
  },
  {
   "cell_type": "code",
   "execution_count": 2,
   "metadata": {},
   "outputs": [],
   "source": [
    "df = load_data(\"2-18-436_jan.xls\") "
   ]
  },
  {
   "cell_type": "code",
   "execution_count": 34,
   "metadata": {},
   "outputs": [
    {
     "data": {
      "text/plain": [
       "277839.33"
      ]
     },
     "execution_count": 34,
     "metadata": {},
     "output_type": "execute_result"
    }
   ],
   "source": [
    "carpenters = ['Carpenter Foreman', 'Carpenter', 'Dockbuilder', 'Timberman']\n",
    "laborers   = ['Labor Foreman', 'Laborer']\n",
    "operators  = ['Operator']\n",
    "pipe_fit   = ['']\n",
    "all_labor  = ['Carpenter Foreman', 'Carpenter', 'Dockbuilder', 'Timberman', \\\n",
    "                 'Labor Foreman', 'Laborer', 'Operator']\n",
    "\n",
    "burn_rate(df, carpenters, '2019-01-01', '2019-01-31').sum()"
   ]
  },
  {
   "cell_type": "code",
   "execution_count": 50,
   "metadata": {},
   "outputs": [],
   "source": [
    "wk1 = burn_rate(df, all_labor, '2018-12-31', '2019-01-06').sum()\n",
    "wk2 = burn_rate(df, all_labor, '2019-01-07', '2019-01-14').sum()\n",
    "wk3 = burn_rate(df, all_labor, '2019-01-15', '2019-01-20').sum()\n",
    "wk4 = burn_rate(df, all_labor, '2019-01-21', '2019-01-27').sum()\n",
    "wk5 = burn_rate(df, all_labor, '2019-01-28', '2019-02-03').sum()\n",
    "wk6 = burn_rate(df, all_labor, '2019-02-04', '2019-02-13').sum()"
   ]
  },
  {
   "cell_type": "code",
   "execution_count": 54,
   "metadata": {},
   "outputs": [
    {
     "data": {
      "image/png": "[encoded data removed]",
      "text/plain": [
       "<matplotlib.figure.Figure at 0x111aa6c88>"
      ]
     },
     "metadata": {
      "needs_background": "light"
     },
     "output_type": "display_data"
    }
   ],
   "source": [
    "weeks = ['wk1', 'wk2', 'wk3', 'wk4', 'wk5']\n",
    "data  = [wk1, wk2, wk3, wk4, wk5]\n",
    "\n",
    "plt.bar(weeks, data)\n",
    "plt.show()"
   ]
  },
  {
   "cell_type": "code",
   "execution_count": null,
   "metadata": {},
   "outputs": [],
   "source": []
  }
 ],
 "metadata": {
  "kernelspec": {
   "display_name": "Python [conda env:anaconda]",
   "language": "python",
   "name": "conda-env-anaconda-py"
  },
  "language_info": {
   "codemirror_mode": {
    "name": "ipython",
    "version": 3
   },
   "file_extension": ".py",
   "mimetype": "text/x-python",
   "name": "python",
   "nbconvert_exporter": "python",
   "pygments_lexer": "ipython3",
   "version": "3.5.6"
  }
 },
 "nbformat": 4,
 "nbformat_minor": 2
}
