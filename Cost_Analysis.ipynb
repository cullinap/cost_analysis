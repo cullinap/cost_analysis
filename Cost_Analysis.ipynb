{
 "cells": [
  {
   "cell_type": "code",
   "execution_count": 25,
   "metadata": {},
   "outputs": [],
   "source": [
    "import numpy as np\n",
    "import pandas as pd\n",
    "import matplotlib.pyplot as plt"
   ]
  },
  {
   "cell_type": "code",
   "execution_count": 26,
   "metadata": {},
   "outputs": [],
   "source": [
    "#clean data by chopping off rows\n",
    "def clean_data(input):\n",
    "    new_index = input.reset_index() #add index row\n",
    "    new_header = new_index.iloc[1] #identify a new header\n",
    "    new_data = new_index[2:] #chop off top two rows\n",
    "    new_data_index = new_data.reset_index(drop=True) #reset again\n",
    "    new_data_clean = new_data_index.fillna('') #drop nan\n",
    "    new_data_clean.columns = new_header\n",
    "\n",
    "    return new_data_clean"
   ]
  },
  {
   "cell_type": "code",
   "execution_count": 27,
   "metadata": {},
   "outputs": [],
   "source": [
    "#monthy cost chart\n",
    "def chart(input):\n",
    "    new_frame = input[['Stamp','Amount']].copy() #timestamp + amount\n",
    "    new_index = new_frame.set_index(pd.DatetimeIndex(new_frame['Stamp'])) #reset index\n",
    "    month = new_index.resample('M').sum() #sum by month\n",
    "    month_index = month.reset_index() #reset again\n",
    "    date = month_index['Stamp']\n",
    "    amount = month_index['Amount']\n",
    "    plt.xticks(rotation=45)\n",
    "    plt.bar(date, amount, 20)\n",
    "    plt.show()\n",
    "    \n",
    "    return month_index"
   ]
  },
  {
   "cell_type": "code",
   "execution_count": null,
   "metadata": {},
   "outputs": [],
   "source": [
    "# #sum by cost code and extra\n",
    "# df.groupby(['Cost Code', 'Extra']).sum().head()"
   ]
  },
  {
   "cell_type": "code",
   "execution_count": 13,
   "metadata": {},
   "outputs": [],
   "source": [
    "# chart(df)"
   ]
  },
  {
   "cell_type": "code",
   "execution_count": 14,
   "metadata": {},
   "outputs": [],
   "source": [
    "# def cost_period(input):\n",
    "#     new_frame = input[['Stamp','Amount', 'Cost Code', 'Extra', 'Description']].copy() #timestamp + amount\n",
    "#     new_index = new_frame.set_index(pd.DatetimeIndex(new_frame['Stamp'])) #reset index\n",
    "#     month = new_index.loc['2018-09-24 01:00:00':'2019-1-31 04:00:00']\n",
    "\n",
    "    \n",
    "#     return new_index.head()"
   ]
  },
  {
   "cell_type": "code",
   "execution_count": 15,
   "metadata": {},
   "outputs": [],
   "source": [
    "# cost_period(df)"
   ]
  },
  {
   "cell_type": "code",
   "execution_count": 16,
   "metadata": {},
   "outputs": [],
   "source": [
    "# new_frame = df[['Stamp','Amount', 'Cost Code', 'Extra', 'Description']].copy() #timestamp + amount\n",
    "# new_index = new_frame.set_index(pd.DatetimeIndex(new_frame['Stamp'])) #reset index"
   ]
  },
  {
   "cell_type": "code",
   "execution_count": 17,
   "metadata": {},
   "outputs": [],
   "source": [
    "# new_index.head()"
   ]
  },
  {
   "cell_type": "code",
   "execution_count": 18,
   "metadata": {},
   "outputs": [],
   "source": [
    "# total_cost = df['Amount'].sum()"
   ]
  },
  {
   "cell_type": "code",
   "execution_count": 19,
   "metadata": {},
   "outputs": [],
   "source": [
    "# #contract_amount = 1445727\n",
    "# contract_amount = 7850000\n",
    "# margin = contract_amount - total_cost\n",
    "# percentage = margin/contract_amount\n",
    "# print(total_cost)\n",
    "# print(margin)\n",
    "# print(percentage.round(3))"
   ]
  },
  {
   "cell_type": "code",
   "execution_count": 20,
   "metadata": {},
   "outputs": [],
   "source": [
    "# january = new_index.loc['2018-12-24 01:00:00':'2019-01-27 04:00:00']\n",
    "# january.head()"
   ]
  },
  {
   "cell_type": "code",
   "execution_count": 21,
   "metadata": {},
   "outputs": [],
   "source": [
    "# january['Amount'].sum()"
   ]
  },
  {
   "cell_type": "code",
   "execution_count": 22,
   "metadata": {},
   "outputs": [],
   "source": [
    "# jan_codes = january.groupby(['Cost Code', 'Extra']).sum()\n",
    "# jan_codes"
   ]
  },
  {
   "cell_type": "code",
   "execution_count": 23,
   "metadata": {},
   "outputs": [],
   "source": [
    "# jan_codes = jan_codes.sort_values(by='Amount', ascending=False)\n",
    "# jan_codes['cum_sum'] = jan_codes.Amount.cumsum()\n",
    "# jan_codes['cum_perc'] = 100*jan_codes.cum_sum/jan_codes.Amount.sum()\n",
    "# jan_codes"
   ]
  },
  {
   "cell_type": "code",
   "execution_count": null,
   "metadata": {},
   "outputs": [],
   "source": []
  }
 ],
 "metadata": {
  "kernelspec": {
   "display_name": "Python [default]",
   "language": "python",
   "name": "python3"
  },
  "language_info": {
   "codemirror_mode": {
    "name": "ipython",
    "version": 3
   },
   "file_extension": ".py",
   "mimetype": "text/x-python",
   "name": "python",
   "nbconvert_exporter": "python",
   "pygments_lexer": "ipython3",
   "version": "3.5.6"
  }
 },
 "nbformat": 4,
 "nbformat_minor": 2
}
