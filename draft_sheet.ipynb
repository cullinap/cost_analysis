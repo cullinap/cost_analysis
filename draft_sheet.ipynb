{
 "cells": [
  {
   "cell_type": "code",
   "execution_count": 48,
   "metadata": {},
   "outputs": [],
   "source": [
    "import os\n",
    "import numpy as np\n",
    "import pandas as pd\n",
    "import matplotlib.pyplot as plt\n",
    "%matplotlib inline"
   ]
  },
  {
   "cell_type": "code",
   "execution_count": 49,
   "metadata": {},
   "outputs": [],
   "source": [
    "class load_data:\n",
    "    def __init__(self, file_name):\n",
    "        self.DATA_PATH = os.path.join(os.getcwd(),\"data\")\n",
    "        self.data      = pd.read_excel(os.path.join(self.DATA_PATH, file_name))"
   ]
  },
  {
   "cell_type": "code",
   "execution_count": 50,
   "metadata": {},
   "outputs": [],
   "source": [
    "def clean_data(self, new_clean_data):\n",
    "    new_index = input.reset_index() #add index row\n",
    "    new_header = new_index.iloc[1] #identify a new header\n",
    "    new_data = new_index[2:] #chop off top two rows\n",
    "    new_data_index = new_data.reset_index(drop=True) #reset again\n",
    "    new_data_clean = new_data_index.fillna('') #drop nan\n",
    "    new_data_clean.columns = new_header\n",
    "\n",
    "    return new_data_clean"
   ]
  },
  {
   "cell_type": "code",
   "execution_count": 47,
   "metadata": {},
   "outputs": [
    {
     "data": {
      "text/plain": [
       "<__main__.clean_data at 0x1145485c0>"
      ]
     },
     "execution_count": 47,
     "metadata": {},
     "output_type": "execute_result"
    }
   ],
   "source": [
    "data = load_data('2-18-436_jan.xls')"
   ]
  },
  {
   "cell_type": "code",
   "execution_count": null,
   "metadata": {},
   "outputs": [],
   "source": []
  }
 ],
 "metadata": {
  "kernelspec": {
   "display_name": "Python [conda env:anaconda]",
   "language": "python",
   "name": "conda-env-anaconda-py"
  },
  "language_info": {
   "codemirror_mode": {
    "name": "ipython",
    "version": 3
   },
   "file_extension": ".py",
   "mimetype": "text/x-python",
   "name": "python",
   "nbconvert_exporter": "python",
   "pygments_lexer": "ipython3",
   "version": "3.5.6"
  }
 },
 "nbformat": 4,
 "nbformat_minor": 2
}
